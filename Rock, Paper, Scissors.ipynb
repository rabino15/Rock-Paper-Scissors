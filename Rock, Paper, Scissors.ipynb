{
 "cells": [
  {
   "cell_type": "markdown",
   "metadata": {},
   "source": [
    "Create a program where the user can play a game of rock, paper, scissors against a computer. Set a play choice \n",
    "(rock, paper, or scissors) for the computer player and during the program, request for the user to input their play choice.\n",
    "\n",
    "The rules in Rock, Paper, Scissors are:\n",
    "\n",
    "Rock beats scissors\n",
    "Scissors beats paper\n",
    "Paper beats rock\n",
    "If the user wins, then display \"You win!\" If they lose against the computer, then display \"You lose.\" If the computer and the \n",
    "user have the same play choice, display \"It's a draw.\"\n",
    "\n",
    "BONUS: Randomize the play choice for the computer (hint: Python has a library called random). Also ask the user if they would \n",
    "like to play again. If they do, start the game again but if not, thank the user for playing the game."
   ]
  },
  {
   "cell_type": "code",
   "execution_count": 34,
   "metadata": {},
   "outputs": [
    {
     "name": "stdout",
     "output_type": "stream",
     "text": [
      "(The computer picked scissors)\n",
      "Your pick(rock, paper, scissors): rock\n",
      "Rock beats scissors; you win!\n",
      "would you like to play again? [y/n]: y\n",
      "(The computer picked scissors)\n",
      "Your pick(rock, paper, scissors): scissors\n",
      "It's a draw\n",
      "would you like to play again? [y/n]: y\n",
      "(The computer picked paper)\n",
      "Your pick(rock, paper, scissors): rock\n",
      "Paper beats rock; you lose\n",
      "would you like to play again? [y/n]: n\n",
      "Thank you for playing the game.\n"
     ]
    }
   ],
   "source": [
    "import random as rand\n",
    "play_again = \"y\"\n",
    "while play_again ==\"y\":\n",
    "    picks = ['rock','paper','scissors']\n",
    "    pick = rand.choice(picks)\n",
    "    print(f\"(The computer picked {pick})\")\n",
    "    user = input(\"Your pick(rock, paper, scissors): \").lower()\n",
    "    if pick == 'rock':\n",
    "        if user == 'rock':\n",
    "            print(\"It's a draw\")\n",
    "            play_again = input(\"would you like to play again? [y/n]: \")\n",
    "        elif user == 'paper':\n",
    "            print(\"Paper covers rock; you win!\")\n",
    "            play_again = input(\"would you like to play again? [y/n]: \")\n",
    "        elif user == 'scissors':\n",
    "            print(\"Rock beats scissors; you lose\")\n",
    "            play_again = input(\"would you like to play again? [y/n]: \")\n",
    "        else:\n",
    "            print(\"That's not a valid choice\")\n",
    "            play_again = input(\"would you like to play again? [y/n]: \")\n",
    "    elif pick == 'paper':\n",
    "        if user == 'rock':\n",
    "            print(\"Paper beats rock; you lose\")\n",
    "            play_again = input(\"would you like to play again? [y/n]: \")\n",
    "        elif user == 'paper':\n",
    "            print(\"It's a draw\")\n",
    "            play_again = input(\"would you like to play again? [y/n]: \")\n",
    "        elif user == 'scissors':\n",
    "            print(\"Scissors beats paper; you win!\")\n",
    "            play_again = input(\"would you like to play again? [y/n]: \")\n",
    "        else:\n",
    "            print(\"That's not a valid choice\")\n",
    "            play_again = input(\"would you like to play again? [y/n]: \")\n",
    "    else:  # pick is 'Scissors'\n",
    "        if user == 'rock':\n",
    "            print(\"Rock beats scissors; you win!\")\n",
    "            play_again = input(\"would you like to play again? [y/n]: \")\n",
    "        elif user == 'paper':\n",
    "            print(\"Scissors beats paper; you lose\")\n",
    "        elif user == 'scissors':\n",
    "            print(\"It's a draw\")\n",
    "            play_again = input(\"would you like to play again? [y/n]: \")\n",
    "        else:\n",
    "            print(\"That's not a valid choice\")\n",
    "            play_again = input(\"would you like to play again? [y/n]: \")\n",
    "print(\"Thank you for playing the game.\")"
   ]
  },
  {
   "cell_type": "code",
   "execution_count": null,
   "metadata": {},
   "outputs": [],
   "source": []
  }
 ],
 "metadata": {
  "kernelspec": {
   "display_name": "Python 3",
   "language": "python",
   "name": "python3"
  },
  "language_info": {
   "codemirror_mode": {
    "name": "ipython",
    "version": 3
   },
   "file_extension": ".py",
   "mimetype": "text/x-python",
   "name": "python",
   "nbconvert_exporter": "python",
   "pygments_lexer": "ipython3",
   "version": "3.8.5"
  }
 },
 "nbformat": 4,
 "nbformat_minor": 4
}
